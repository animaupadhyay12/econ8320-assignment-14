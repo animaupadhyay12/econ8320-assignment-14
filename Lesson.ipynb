{
  "cells": [
    {
      "cell_type": "markdown",
      "metadata": {
        "id": "XBclQlbSMzVj"
      },
      "source": [
        "# Multiprocessing\n",
        "\n",
        "Or writing programs to use multiple processor cores"
      ]
    },
    {
      "cell_type": "markdown",
      "metadata": {
        "id": "a6uhgHIqMzVk"
      },
      "source": [
        "### This lesson is based on notes from [sebastianraschka.com](http://sebastianraschka.com/Articles/2014_multiprocessing.html)\n",
        "\n",
        "What actually happens when you run code, or execute a program on a computer? If we focus on Python, what happens when we run Python code? Does our computer \"speak Python\", understand what we type, and do what we ask?\n",
        "\n",
        "It turns out that no, our computer does NOT speak Python. When we execute Python code, our code is passed to an **interpreter**. This interpreter is what reads our code and translates what we have written into what is called **machine code**. Machine code is typically not human-readable. That's the reason we have languages like Python, R, C++, Java, etc. We need a way to express logic clearly and explicitly, so that it can be translated into the kind of code that our computer DOES understand.\n",
        "\n",
        "So far, human speech (or written human language) does not translate directly to machine code.\n",
        "\n",
        "But what actually happens once we write our code, and the computer starts to run that code? We can understand the basics of this process through the following six (simplified!) steps:\n",
        "\n",
        "1) The computer allocates memory to the program\n",
        "2) The program issues a series of instructions to the processor (the thinking part of the computer)\n",
        "3) Upon completion of one instruction by the processor, the next is started\n",
        "4) Information is returned from the processor to the program as needed\n",
        "5) New instructions are sent to the processor based on information received from the processor\n",
        "6) Return to step 2, repeat until program is finished\n",
        "\n",
        "\n",
        "When a program is running, it typically has a single space in memory in which it stores all information relevant to its task. This memory space allows the information to be used by whichever part of the program requires that information to use it. Basically, think of all of the things in memory as shared assets, and different parts of the program want to be able to access them at the same time. Kind of like if you share a storage space with a friend or family member. Sometimes you'll be pulling out the camping gear, and sometimes they will be instead.\n",
        "\n",
        "Information that is accessible across the entire program are called **globally defined values**. But not all variables are global. Some variables with reduced **scope** are not available to all segments of a program. You might have valuables that you don't share with the other people using your storage space. It's kind of like that. Variables with reduced scope are only available to parts of the program that share that scope.\n",
        "\n",
        "While for people, we restrict access primarily based on keeping valuables safe, programs tend to do it in order to ensure that information is not lost or modified while it is needed by a part of the program. You wouldn't want to have someone change your budgeting spreadsheet in the middle of the month, would you?\n",
        "\n",
        "Again, **scope** is a term used to define the areas in which a given value in memory is accessible. Variables that are **Global** in scope can typically be accessed by any function or command running as part of the program. Variables that are **Local** can only be accessed within the scope in which they are defined. A variable created inside a function is said to be **local** to that function, and only available until the function is concluded. Then it is either returned to the global space, or forgotten.\n"
      ]
    },
    {
      "cell_type": "markdown",
      "metadata": {
        "id": "4fQZGxOXMzVl"
      },
      "source": [
        "\n",
        "![](https://github.com/dustywhite7/Econ8320/blob/master/SlidesCode/serialParallel.png?raw=true)\n",
        "\n",
        "One of the single biggest changes in computational technology in the recent past was the advent and spread of parallel computation. This concept is the crux of this lesson, but needs a lot of explaining, because it isn't something that we as computer USERS have to deal with. It happens behind the scenes, despite its tremendous importance.\n",
        "\n",
        "### Sequential programs\n",
        "\n",
        "When we perform tasks, some steps must be performed sequentially. This happens because one task depends on the results of the other task. For example, an American football team will only make a play on fourth down if they fail to score or convert on third down. We can't fully implement our plan for fourth down until we have seen whether or not fourth down will occur.\n",
        "\n",
        "We need to aim our penalty shot in FIFA before taking the kick. We even need to wait to complete the details for the elimination rounds of the tournament until group play has ended. Until then, we don't know enough about which teams will advance to complete the bracket.\n",
        "\n",
        "In programming speak, sequential programs are sequential because it is critical that the results of one calculation be within the **scope** of the other calculations. If one sequential calculation cannot view the results of the prior calculation, then the second function cannot be completed.\n",
        "\n",
        "### Parallel Programs\n",
        "\n",
        "On the other hand, some calculations can be performed independent of the results of other steps. These tend to be calculations that can essentially be considered separate tasks, but part of a larger overall task. Some examples include\n",
        "\n",
        "- Batch processing of files\n",
        "- Non-sequential simulations\n",
        "- Serving recommended products to many users\n",
        "- Repeated random draws\n",
        "- Rendering polygons\n",
        "\n",
        "The key difference between serial and parallel programs is the dependency (or lack of dependency) of calculations on the results of previous calculations.\n",
        "\n",
        "- Serial programs rely on previous results\n",
        "- Parallel programs do not depend on the results of other calculations\n",
        "\n",
        "Parallel programs can occur simultaneously, allowing us to accelerate execution. If we can run four calculations simultaneously, then in theory we might be able to run 100 computations in the time that a serial program might run 25 similar computations.\n",
        "\n",
        "Parallel computations have enabled advances like improved graphics in video games, and have made possible the revolution in machine learning. Let's learn how to make parallel code work for our projects, as well!\n"
      ]
    },
    {
      "cell_type": "markdown",
      "metadata": {
        "id": "6TvexfYeMzVl"
      },
      "source": [
        "One place where parallel processing really shines is in estimating complex mathematical calculations. While some math can be solved algebraically, other math problems can only be solved computationally. The more computations we can perform in a given amount of time, the sooner we can find the solution to those problems. We can buy faster computers to speed up calculations, but we can also parallelize many calculations, giving us benefits without having to upgrade our computer!\n",
        "\n",
        "Some examples in which we will typically solve math problems with computation:\n",
        "- Estimating Producer/Consumer Surplus\n",
        "- Calculating probabilities from frequency tables\n",
        "- Integrating on complicated functional forms\n",
        "\n",
        "### Numeric Integration\n",
        "\n",
        "Often, when integrating complicated functions, there is no **algebraic** solution to the integral. This means that we need to estimate the value of the integral **numerically**. The process that we follow to estimate an integral numerically follows:\n",
        "\n",
        "1) Choose points at which to estimate the value of the function\n",
        "2) Choose bandwidth\n",
        "3) Multiply function values by bandwidth\n",
        "4) Add all estimates to calculate approximate integral\n",
        "\n",
        "![](https://github.com/dustywhite7/Econ8320/blob/master/SlidesCode/integralProcess.png?raw=true)\n",
        "\n",
        "Let's start by just defining a function to integrate. We can use\n",
        "\n",
        "$$ f(x) = \\frac{1}{1+x^2} $$\n",
        "\n",
        "as our example function. First, we need to write this function as a Python function:"
      ]
    },
    {
      "cell_type": "code",
      "execution_count": null,
      "metadata": {
        "id": "HmN7BL-VMzVm"
      },
      "outputs": [],
      "source": [
        "# define any function here!\n",
        "def f(x):\n",
        "    # return the value of the function given x\n",
        "    return 1/(1 + x**2)"
      ]
    },
    {
      "cell_type": "markdown",
      "metadata": {
        "id": "FnJVW5mCMzVm"
      },
      "source": [
        "Now, we need to write a function that can sample from our function, and calculate the area of the sampled rectangles, and then return an approximate area."
      ]
    },
    {
      "cell_type": "code",
      "execution_count": null,
      "metadata": {
        "id": "pT0oz8GrMzVn"
      },
      "outputs": [],
      "source": [
        "import random\n",
        "\n",
        "def serial_integral(nSample, f, xmin, xmax):\n",
        "  # determine points of estimation\n",
        "  sample = sorted([random.uniform(xmin, xmax) for i in range(nSample)])\n",
        "  # Calculate height at each point\n",
        "  value = [f(i) for i in sample]\n",
        "  # Calculate areas of rectangles\n",
        "  # We have to specially calculate the first rectangle,\n",
        "  #   because xmin is not part of our list of samples\n",
        "  area = [(sample[0]-xmin)*value[0]] +\n",
        "    [(sample[i]-sample[i-1])*value[i] for i in range(1, len(sample))]\n",
        "  # Return sum as an approximate integral\n",
        "  return sum(area)"
      ]
    },
    {
      "cell_type": "markdown",
      "metadata": {
        "id": "tIwYKYCtMzVn"
      },
      "source": [
        "This is our function for actually integrating a function `f` from `xmin` to `xmax` across `nSample` random intervals. Below is a picture of how this function gets (approximately) closer to estimating the true integral value as we increase the number of points at which we sample the function. Because integration is based on randomly drawn intervals, the convergence is not smooth. If we took many integrals at each bin number, however, we would expect this plot to become smooth.\n",
        "\n",
        "![](https://github.com/dustywhite7/Econ8320/blob/master/SlidesCode/integral.png?raw=true)\n",
        "\n",
        "### Parallel calculations\n",
        "\n",
        "The ``multiprocessing`` library is designed to create multiple sub-instances of the python interpreter called processes, with each process returning values that are independent of the other processes. In order to coordinate this effort, some computational power must be assigned to send off processes and to retrieve their results upon completion.\n",
        "\n",
        "This \"overhead\" means that parallel processing is not usually justified for very simple problems, and is reserved for computationally intensive problems, or where there are very many processes to be completed in one batch.\n",
        "\n",
        "Given the overhead of parallelization, it is not worthwhile to make a parallel version of our single integral function above. Instead, it IS worthwhile to create a function that can calculate the integral many times in parallel. Like we said above, convergence is noisy, but an average value for each given number of bins should be more stable.\n",
        "\n",
        "Let's see how much time we can save by making a function that will calculate an average value in parallel when compared to a serialized alternative."
      ]
    },
    {
      "cell_type": "code",
      "execution_count": null,
      "metadata": {
        "id": "rnjD86SkMzVn"
      },
      "outputs": [],
      "source": [
        "import multiprocessing as mp # This module is part of the\n",
        "\t\t\t     # python standard library\n",
        "\n",
        "def serial_average(n_bins, n_reps, f, xmin, xmax):\n",
        "  attempts = [serial_integral(n_bins, f, xmin, xmax) for i in range(n_reps)]\n",
        "  return sum(attempts)/n_reps\n",
        "\n",
        "def parallel_average(processes, n_bins, n_reps, f, xmin, xmax):\n",
        "  pool = mp.Pool(processes=processes)\n",
        "  results = [pool.apply_async(serial_integral, (n_bins, f, xmin, xmax)) for i in range(n_reps)]\n",
        "  results = [p.get() for p in results]\n",
        "  return sum(results)/n_reps"
      ]
    },
    {
      "cell_type": "markdown",
      "metadata": {
        "id": "sWjviKUqMzVn"
      },
      "source": [
        "Now let's explore what that function does."
      ]
    },
    {
      "cell_type": "code",
      "execution_count": null,
      "metadata": {
        "id": "7Si2EJLeMzVn"
      },
      "outputs": [],
      "source": [
        "def parallel_average(processes, n_bins, n_reps, f, xmin, xmax):\n",
        "  pool = mp.Pool(processes=processes)\n",
        "  ...\n",
        "  return ..."
      ]
    },
    {
      "cell_type": "markdown",
      "metadata": {
        "id": "qF0vkXtrMzVn"
      },
      "source": [
        "The `mp.Pool` class provides the functionality to organize our processes, and to define the degree to which we want to spread our work across various **processes**. We can specify how many active processes there should be at any time with the number of processes.\n",
        "\n",
        "We need to take care to choose the right number of processes for our machine! In general, my experience has been that performance is best when you keep the number of processes at or below the number of cores available in your computer's processor."
      ]
    },
    {
      "cell_type": "code",
      "execution_count": null,
      "metadata": {
        "id": "T995Za6zMzVn"
      },
      "outputs": [],
      "source": [
        "def parallel_average(processes, n_bins, n_reps, f, xmin, xmax):\n",
        "  ...\n",
        "  results = [pool.apply_async(serial_integral, (n_bins, f, xmin, xmax)) for i in range(n_reps)]\n",
        "  ...\n",
        "  return ..."
      ]
    },
    {
      "cell_type": "markdown",
      "metadata": {
        "id": "C2V93rv2MzVo"
      },
      "source": [
        "We next use the `apply_async` method to pass the values that we want our pooled instances to calculate. We need to provide the function to be executed, as well as the arguments for the function in each iteration with each each of the arguments an element in a tuple. In our case, we are not varying the arguments, so we provide a single tuple that never changes, but we could vary those arguments whenever necessary or desirable."
      ]
    },
    {
      "cell_type": "code",
      "execution_count": null,
      "metadata": {
        "id": "pEFIG-9dMzVo"
      },
      "outputs": [],
      "source": [
        "def parallel_average(processes, n_bins, n_reps, f, xmin, xmax):\n",
        "  ...\n",
        "  results = [p.get() for p in results]\n",
        "  ...\n",
        "  return ..."
      ]
    },
    {
      "cell_type": "markdown",
      "metadata": {
        "id": "uzzj0A97MzVo"
      },
      "source": [
        "The next step is to use the `get()` method on each element of our returned processes. This will fetch the return statement values from each of the processes that we executed in the last line.\n",
        "\n",
        "At this point the parallel computation is complete. The remainder of the function will look and work just like the results from our `serial_average` method.\n",
        "\n",
        "\n",
        "### Timing it\n",
        "\n",
        "Next, it is time to write code that will allow us to test our parallel and serial performance."
      ]
    },
    {
      "cell_type": "code",
      "source": [],
      "metadata": {
        "id": "N9gMB_OJqK2L"
      },
      "execution_count": null,
      "outputs": []
    },
    {
      "cell_type": "code",
      "execution_count": null,
      "metadata": {
        "id": "NaCcyD0bMzVo"
      },
      "outputs": [],
      "source": [
        "import timeit # library for timing execution of code\n",
        "\n",
        "benchmarks = [] # list to store our execution times\n",
        "\n",
        "benchmarks.append(timeit.Timer('serial_average(10000, 100, f, 0, 1)',\n",
        "  'from __main__ import serial_average, serial_integral, f').timeit(number=1))\n",
        "    # Note that we need to include a second line\n",
        "    # that imports our functions from __main__.\n",
        "    # This tells the timer what needs to be IN SCOPE\n",
        "\n",
        "benchmarks.append(timeit.Timer(\n",
        "  'parallel_average(2, 10000, 100, f, 0, 1)',\n",
        "  'from __main__ import parallel_average, serial_integral, f').timeit(\n",
        "    number=1))\n",
        "    # Need to include number of processes\n",
        "    # when timing the parallel implementation"
      ]
    },
    {
      "cell_type": "markdown",
      "metadata": {
        "id": "TDNf6W6iMzVo"
      },
      "source": [
        "Amazing! When timing the output on my virtual machine (not at all a powerful computer), the parallel version runs nearly twice as fast (0.36 seconds vs 0.69 seconds). Even in a fairly trivial example, we see significant performance gains.\n",
        "\n",
        "When I ran a similar trial on my computer with 16 cores, I saw the following performance pattern:\n",
        "\n",
        "![w:750](https://github.com/dustywhite7/Econ8320/blob/master/SlidesCode/performance.png?raw=true)\n",
        "\n",
        "On 16 cores, the parallel version of this problem executes over 5x faster than the serial version! Some observations:\n",
        "\n",
        "- This was done on a 16-core processor, which is an expensive way to get a performance gain\n",
        "- Creating too many processes (going past 16 to 32) actually started to slow the computations down\n",
        "- We need to be aware of the hardware that we are utilizing when designing parallel code\n",
        "\n",
        "If you are unsure of how many processes you should run on your machine, the following command will show you how many CPU cores are available to Python:\n",
        "\n",
        "```python\n",
        "mp.cpu_count() # Tells us the number of available CPUs\n",
        "```\n",
        "\n",
        "Now it's your turn to give it a go!\n"
      ]
    },
    {
      "cell_type": "markdown",
      "metadata": {
        "id": "WQeSMIDiMzVo"
      },
      "source": [
        "## Solve-it!\n",
        "\n",
        "Simulate 1,000 draws from a multivariate normal distribution and calculate the average value of the dependent variable, but do it 100 times! This is called \"bootstrapping\" and is a critical process in many statistical models and simulations. Draw from the following equation:\n",
        "\n",
        "$$ y = \\alpha + x_{1} + 2\\cdot x_{2} + \\frac{1}{2}x_{3} + \\epsilon $$\n",
        "\n",
        "where\n",
        "\n",
        "$\\alpha \\sim \\mathcal{N}(15,2)$, $x_1 \\sim \\mathcal{N}(3,5)$,\n",
        "\n",
        "$x_2 \\sim \\mathcal{N}(10,1)$, $x_3 \\sim \\mathcal{N}(8,8)$, and\n",
        "\n",
        "$\\epsilon \\sim \\mathcal{N}(0,1)$\n",
        "\n",
        "$\\mathcal{N}(\\mu, \\sigma)$ represents the Normal distribution with mean $\\mu$ and standard deviation $\\sigma$\n",
        "\n",
        "Write functions to generate all values and calculate . Test and time these draws using serial and parallel programming (2 cores), and report the difference in performance between the two versions.\n",
        "\n",
        "\n",
        "Call your serial function `sCalc`, and your parallel function `pCalc`, store your results from each function as a list, with the lists named `sResults` and `pResults`, respectively.\n",
        "\n",
        "Finally, store the timed values for each run as `sTime` and `pTime`, respectively. All code for this exercise should go in the cell labeled `#si-exercise` below.\n",
        "\n",
        "**NOTE: Because we are running code on a virtual machine, and because the problem is not very computationally intensive, we should not be surprised if the serial version of our code outperforms the parallel version for this assignment.**\n",
        "\n",
        "**OTHER NOTE: Because we need this to run in a reasonable amount of time, we are only running 100 rounds of sampling. Typical bootstrapping procedures default to 10,000 rounds as good practice.**"
      ]
    },
    {
      "cell_type": "code",
      "execution_count": 32,
      "metadata": {
        "id": "ISNw2bHoMzVo",
        "colab": {
          "base_uri": "https://localhost:8080/"
        },
        "outputId": "8525bc14-8a53-4a5e-fda2-ae69ac3f1a63"
      },
      "outputs": [
        {
          "output_type": "stream",
          "name": "stdout",
          "text": [
            "Serial Results: [41.98971691135839, 42.07215291654256, 42.12649049602627, 41.94490817065924, 41.96132605824423, 42.02643346137418, 41.888720501775516, 41.98897389976829, 41.95176523424681, 41.99607812633371, 42.1012074886967, 42.04960630522909, 41.90250829342877, 41.900070606040984, 41.90546400916506, 41.89083155224361, 42.000660738987825, 42.07531365706579, 42.0441214126282, 42.00352416250294, 41.93649158983842, 42.06899463662241, 42.014616998880456, 41.92210074858904, 42.02150667563398, 42.06691406317288, 41.91067625225037, 41.92000094061884, 41.97004765275913, 42.027880513926, 42.05000608944219, 42.11893379847041, 42.1203032779935, 41.96243578693793, 41.9490695761634, 42.04581328261461, 42.141329913743284, 41.99212873690953, 41.987248388547, 42.04005291426608, 42.09296695907623, 42.00662353033512, 41.94616496725157, 41.82620856120742, 41.926486610822195, 42.07155920537902, 41.970823324936866, 42.03425245073683, 41.89969783618, 42.144706935083406, 42.005814317834336, 42.03517667046941, 41.91404847686626, 42.014214050615884, 41.97385667063859, 42.06075309734747, 41.965389527883936, 41.91973196224094, 41.9495089160544, 42.016716177456274, 42.041742394097895, 41.98373253940167, 41.95755151912476, 42.107782857471236, 42.02079234214938, 42.02459208810268, 42.00705328360031, 42.039947637175956, 42.002347498164056, 42.00919716943605, 41.929368023970746, 42.04393310647285, 41.90363751032569, 42.10530243222557, 41.98862686368667, 42.03672298067817, 42.058752032185026, 42.00044432006234, 41.83966723263325, 41.8985853735013, 42.056431453041704, 41.99084426894265, 41.92328207126788, 42.054179733094685, 42.0104520555884, 42.008641901752306, 41.929188611345424, 41.998949231014606, 41.9175979885782, 41.93185870953422, 42.070027993342435, 42.03629602551006, 42.098075844505665, 41.98013590159353, 41.96991820157959, 41.980317110936454, 42.08959481272207, 41.958879840744714, 42.02872637510697, 41.89527162431043]\n",
            "Serial Time: [42.58748128438849, 41.22169030911751, 41.92829978058655, 42.38022003252761, 42.07980849181418, 41.744769324211646, 41.871432859337325, 41.327292202756304, 41.6512081267841, 41.61085219889917, 42.767663954601296, 41.422477190709095, 41.3758088837259, 41.96688529784453, 41.2866621800163, 41.42099008758678, 42.00594013931972, 41.70602254528253, 41.23762470529265, 42.05198843741638, 42.40869443615883, 42.841531442984845, 42.84612012244685, 41.40007012040889, 41.383085411150425, 42.230990826779504, 42.55344249154531, 42.25075647009701, 41.39147689158462, 41.82283373205506, 41.13118507964273, 42.26426935911507, 42.06209610601068, 42.789800975098906, 41.81992171487943, 41.79816833295467, 41.52410516833722, 42.49015504776994, 42.05719399017459, 42.71432734971817, 41.31611364190185, 41.355257511678495, 41.68309985958093, 41.79557476455969, 40.5442423641474, 42.2269549740113, 43.23822462604091, 41.70097976825614, 41.41517401069043, 42.1015483844599, 42.64010834286758, 42.11754745001045, 43.07320389853943, 41.918241892161014, 42.25529955064017, 42.115241565085135, 42.861606265434155, 41.57169926946245, 41.597345053595, 42.86084053785223, 43.27523477630162, 40.41346345754118, 43.57781554371709, 41.35587073079032, 42.03924483191264, 41.6574062581961, 41.79166088877864, 42.5764506380508, 42.534570794952636, 42.40139607868185, 41.51489839006442, 41.81346775064552, 41.729849411743686, 41.68639646299095, 41.835965515714854, 42.259912479530264, 42.16881084391542, 42.173801249984244, 41.770518799294166, 41.418829447715446, 41.48717714637405, 40.88526036099705, 39.93335868556068, 41.784872819347626, 42.11540913213669, 42.779271346980565, 40.5732335026092, 41.16558843322078, 40.98261082398754, 41.93446781987278, 40.99869546273571, 42.983591220661985, 42.06919135736579, 42.12838036783456, 41.84423100335595, 41.842675247990044, 42.383124001636645, 41.32082792284998, 41.969515714293514, 40.53646887860622]\n",
            "Parallel Results: [41.823301844883716, 41.11565604128741, 41.66194970140807, 43.34462580699967, 41.89995799505567, 41.223756776234296, 42.44388961042442, 41.33223075823386, 41.97706809040093, 41.39012255316513, 42.98198543751687, 40.75637920796346, 42.20950339227148, 41.823301844883716, 41.11565604128741, 41.66194970140807, 43.34462580699967, 41.89995799505567, 41.223756776234296, 42.44388961042442, 41.33223075823386, 41.97706809040093, 41.39012255316513, 42.98198543751687, 40.75637920796346, 42.20950339227148, 42.31130370203647, 43.086998760729294, 41.469372888694096, 42.44001825646231, 41.79529805933637, 42.305153374238635, 42.68177784235985, 42.61912610739595, 41.37750545383304, 42.08555509870578, 42.84629101215159, 41.05118585005325, 41.836190595536245, 42.31130370203647, 43.086998760729294, 41.469372888694096, 42.44001825646231, 41.79529805933637, 42.305153374238635, 42.68177784235985, 42.61912610739595, 41.37750545383304, 42.08555509870578, 42.84629101215159, 41.05118585005325, 41.836190595536245, 41.620675774204635, 42.48609760015211, 41.47627608533021, 41.55164653904577, 42.540680850752835, 41.84235799217061, 42.19683008695909, 41.995365934863955, 42.28954120772821, 41.873527094966285, 41.926052303801995, 42.23105862408456, 43.00654511051062, 41.620675774204635, 42.48609760015211, 41.47627608533021, 41.55164653904577, 42.540680850752835, 41.84235799217061, 42.19683008695909, 41.995365934863955, 42.28954120772821, 41.873527094966285, 41.926052303801995, 42.23105862408456, 43.00654511051062, 42.75002831531921, 42.35134487398177, 43.010220544317, 42.45851915070531, 41.815754766363305, 41.25330253904533, 41.466542001287834, 41.6727582551452, 41.43962052204042, 41.874572611645426, 41.8223422251145, 42.646172146162215, 42.092239774514944, 42.75002831531921, 42.35134487398177, 43.010220544317, 42.45851915070531, 41.815754766363305, 41.25330253904533, 41.466542001287834, 41.6727582551452, 41.43962052204042]\n",
            "Parallel Time: 1733254987.2008796\n"
          ]
        }
      ],
      "source": [
        "#si-exercise\n",
        "\n",
        "import numpy as np\n",
        "import multiprocessing as mp\n",
        "import timeit\n",
        "import time\n",
        "\n",
        "def y():\n",
        "    alpha = np.random.normal(15, 2)\n",
        "    x1 = np.random.normal(3, 5)\n",
        "    x2 = np.random.normal(10, 1)\n",
        "    x3 = np.random.normal(8, 8)\n",
        "    epsilon = np.random.normal(0, 1)\n",
        "    y = alpha + x1 + 2 * x2 + 0.5 * x3 + epsilon\n",
        "    return y\n",
        "\n",
        "def sCalc():\n",
        "  sResults = []\n",
        "  sTime  = time.time()\n",
        "  for _ in range(100):\n",
        "    sTime = [np.mean([y() for _ in range(100)]) for _ in range(100)]\n",
        "    sResults.append(np.mean(sTime))\n",
        "  return sResults, sTime\n",
        "\n",
        "def pCalc():\n",
        "  pResults = []\n",
        "  pTime = time.time()\n",
        "  with mp.Pool(processes=2) as pool:\n",
        "    pResults = pool.map(parallel_task, [y] * 100)\n",
        "  return pResults, pTime\n",
        "\n",
        "def parallel_task(func):\n",
        "  return np.mean([func() for _ in range(100)])\n",
        "\n",
        "sResults, sTime = sCalc()\n",
        "pResults, pTime = pCalc()\n",
        "\n",
        "print(\"Serial Results:\", sResults)\n",
        "print(\"Serial Time:\", sTime)\n",
        "print(\"Parallel Results:\", pResults)\n",
        "print(\"Parallel Time:\", pTime)\n",
        "\n"
      ]
    },
    {
      "cell_type": "code",
      "source": [],
      "metadata": {
        "id": "NbQe6SVx4xqA"
      },
      "execution_count": null,
      "outputs": []
    }
  ],
  "metadata": {
    "celltoolbar": "Create Assignment",
    "kernelspec": {
      "display_name": "Python 3 (ipykernel)",
      "language": "python",
      "name": "python3"
    },
    "language_info": {
      "codemirror_mode": {
        "name": "ipython",
        "version": 3
      },
      "file_extension": ".py",
      "mimetype": "text/x-python",
      "name": "python",
      "nbconvert_exporter": "python",
      "pygments_lexer": "ipython3",
      "version": "3.9.13"
    },
    "colab": {
      "provenance": []
    }
  },
  "nbformat": 4,
  "nbformat_minor": 0
}